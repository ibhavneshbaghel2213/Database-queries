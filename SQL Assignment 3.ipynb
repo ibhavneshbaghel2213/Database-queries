{
 "cells": [
  {
   "cell_type": "markdown",
   "id": "f3b4e247",
   "metadata": {},
   "source": [
    "<b>Q-1. Write an SQL query to print the FIRST_NAME from Worker table after removing\n",
    "white spaces from the right side.<b>"
   ]
  },
  {
   "cell_type": "markdown",
   "id": "1501e011",
   "metadata": {},
   "source": [
    "### SELECT RTRIM(FIRST_NAME) FROM Worker;"
   ]
  },
  {
   "cell_type": "markdown",
   "id": "03aa1928",
   "metadata": {},
   "source": [
    "<b>Q-2. Write an SQL query that fetches the unique values of DEPARTMENT from Worker\n",
    "table and prints its length.<b>"
   ]
  },
  {
   "cell_type": "markdown",
   "id": "dbccfbce",
   "metadata": {},
   "source": [
    "### SELECT DISTINCT DEPARTMENT, length(DEPARTMENT) FROM Worker GROUP BY DEPARTMENT;"
   ]
  },
  {
   "cell_type": "markdown",
   "id": "94059ffa",
   "metadata": {},
   "source": [
    "<b>Q-3. Write an SQL query to fetch nth max salaries from a table.<b>"
   ]
  },
  {
   "cell_type": "markdown",
   "id": "5e9e1c61",
   "metadata": {},
   "source": [
    "### SELECT DISTINCT(Salary) FROM Worker ORDER BY Salary DESC LIMIT 1 OFFSET n;"
   ]
  },
  {
   "cell_type": "code",
   "execution_count": null,
   "id": "acd1d412",
   "metadata": {},
   "outputs": [],
   "source": []
  }
 ],
 "metadata": {
  "kernelspec": {
   "display_name": "Python 3 (ipykernel)",
   "language": "python",
   "name": "python3"
  },
  "language_info": {
   "codemirror_mode": {
    "name": "ipython",
    "version": 3
   },
   "file_extension": ".py",
   "mimetype": "text/x-python",
   "name": "python",
   "nbconvert_exporter": "python",
   "pygments_lexer": "ipython3",
   "version": "3.9.7"
  }
 },
 "nbformat": 4,
 "nbformat_minor": 5
}
