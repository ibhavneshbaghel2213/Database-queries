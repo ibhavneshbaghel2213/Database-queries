{
 "cells": [
  {
   "cell_type": "markdown",
   "id": "6eee91b5",
   "metadata": {},
   "source": [
    "<b>Q-1. Write an SQL query to print the FIRST_NAME from Worker table after replacing ‘a’\n",
    "with ‘A’.<b>"
   ]
  },
  {
   "cell_type": "markdown",
   "id": "aac95bb3",
   "metadata": {},
   "source": [
    "Ans:  SELECT REPLACE(FIRST_NAME,'a','A') FIRST_NAME FROM Worker WHERE FIRST_NAME IS NOT NULL;"
   ]
  },
  {
   "cell_type": "markdown",
   "id": "9e03bef7",
   "metadata": {},
   "source": [
    "<b>Q-2. Write an SQL query to print all Worker details from the Worker table order by\n",
    "FIRST_NAME Ascending and DEPARTMENT Descending."
   ]
  },
  {
   "cell_type": "markdown",
   "id": "3b528c5d",
   "metadata": {},
   "source": [
    "Ans: SELECT details FROM Worker ORDER BY FIRST_NAME ASC, DEPARTMENT DESC;"
   ]
  },
  {
   "cell_type": "markdown",
   "id": "b23184d1",
   "metadata": {},
   "source": [
    "<B>Q-3. Write an SQL query to fetch the names of workers who earn the highest salary<B>"
   ]
  },
  {
   "cell_type": "markdown",
   "id": "8cabe7b9",
   "metadata": {},
   "source": [
    "Ans:  SELECT names, MAX(salary) salary FROM worker;"
   ]
  },
  {
   "cell_type": "code",
   "execution_count": null,
   "id": "11e2f8a8",
   "metadata": {},
   "outputs": [],
   "source": []
  }
 ],
 "metadata": {
  "kernelspec": {
   "display_name": "Python 3 (ipykernel)",
   "language": "python",
   "name": "python3"
  },
  "language_info": {
   "codemirror_mode": {
    "name": "ipython",
    "version": 3
   },
   "file_extension": ".py",
   "mimetype": "text/x-python",
   "name": "python",
   "nbconvert_exporter": "python",
   "pygments_lexer": "ipython3",
   "version": "3.9.7"
  }
 },
 "nbformat": 4,
 "nbformat_minor": 5
}
