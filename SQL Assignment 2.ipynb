{
 "cells": [
  {
   "cell_type": "code",
   "execution_count": 6,
   "id": "93777109",
   "metadata": {},
   "outputs": [],
   "source": [
    "cursor.execute(\"create database work\")"
   ]
  },
  {
   "cell_type": "code",
   "execution_count": 9,
   "id": "52326eba",
   "metadata": {},
   "outputs": [],
   "source": [
    "cursor.execute(\"use work\")"
   ]
  },
  {
   "cell_type": "code",
   "execution_count": 10,
   "id": "59f6d612",
   "metadata": {},
   "outputs": [],
   "source": [
    "cursor.execute(\"create table work.worker(FIRST_NAME VARCHAR(20), SALARY INT(30))\")"
   ]
  },
  {
   "cell_type": "code",
   "execution_count": 11,
   "id": "9a3017c7",
   "metadata": {},
   "outputs": [],
   "source": [
    "cursor.execute(\"INSERT INTO work.worker values('Amitabh', 5000)\")"
   ]
  },
  {
   "cell_type": "code",
   "execution_count": 12,
   "id": "62b44474",
   "metadata": {},
   "outputs": [],
   "source": [
    "cursor.execute(\"INSERT INTO work.worker values('surya', 10000)\")"
   ]
  },
  {
   "cell_type": "code",
   "execution_count": 13,
   "id": "885489ba",
   "metadata": {},
   "outputs": [],
   "source": [
    "mydb.commit()"
   ]
  },
  {
   "cell_type": "code",
   "execution_count": 18,
   "id": "caa999db",
   "metadata": {},
   "outputs": [],
   "source": [
    "cursor.execute(\"select * from work.worker \")"
   ]
  },
  {
   "cell_type": "code",
   "execution_count": 19,
   "id": "1f6199c3",
   "metadata": {},
   "outputs": [
    {
     "data": {
      "text/plain": [
       "[('Amitabh', 5000), ('surya', 10000)]"
      ]
     },
     "execution_count": 19,
     "metadata": {},
     "output_type": "execute_result"
    }
   ],
   "source": [
    "cursor.fetchall()"
   ]
  },
  {
   "cell_type": "markdown",
   "id": "bb5bb1d6",
   "metadata": {},
   "source": [
    "<b>Q-1. Write an SQL query to print the first three characters of  FIRST_NAME from Worker\n",
    "table.</b>"
   ]
  },
  {
   "cell_type": "code",
   "execution_count": 20,
   "id": "69f94967",
   "metadata": {},
   "outputs": [],
   "source": [
    "cursor.execute(\"select substring(FIRST_NAME,1,3) from work.worker\")"
   ]
  },
  {
   "cell_type": "code",
   "execution_count": 21,
   "id": "39e06121",
   "metadata": {},
   "outputs": [
    {
     "data": {
      "text/plain": [
       "[('Ami',), ('sur',)]"
      ]
     },
     "execution_count": 21,
     "metadata": {},
     "output_type": "execute_result"
    }
   ],
   "source": [
    "cursor.fetchall()"
   ]
  },
  {
   "cell_type": "markdown",
   "id": "f76798fb",
   "metadata": {},
   "source": [
    "<b>Q-2. Write an SQL query to find the position of the alphabet (‘a’) in the first name\n",
    "column ‘Amitabh’ from Worker table.</b>"
   ]
  },
  {
   "cell_type": "code",
   "execution_count": 23,
   "id": "c1cfeedb",
   "metadata": {},
   "outputs": [],
   "source": [
    "cursor.execute(\"select INSTR(FIRST_NAME, BINARY'a') from work.worker where FIRST_NAME = 'Amitabh'\")"
   ]
  },
  {
   "cell_type": "code",
   "execution_count": 24,
   "id": "26987abe",
   "metadata": {},
   "outputs": [
    {
     "data": {
      "text/plain": [
       "[(1,)]"
      ]
     },
     "execution_count": 24,
     "metadata": {},
     "output_type": "execute_result"
    }
   ],
   "source": [
    "cursor.fetchall()"
   ]
  },
  {
   "cell_type": "markdown",
   "id": "68af1817",
   "metadata": {},
   "source": [
    "<b>Q-3. Write an SQL query to print the name of employees having the highest salary in each\n",
    "department.</b>"
   ]
  },
  {
   "cell_type": "code",
   "execution_count": 28,
   "id": "0f0a3abf",
   "metadata": {},
   "outputs": [],
   "source": [
    "cursor.execute(\"select FIRST_NAME, MAX(SALARY) from work.worker group by FIRST_NAME\")"
   ]
  },
  {
   "cell_type": "code",
   "execution_count": 29,
   "id": "3b92c914",
   "metadata": {},
   "outputs": [
    {
     "data": {
      "text/plain": [
       "[('Amitabh', 5000), ('surya', 10000)]"
      ]
     },
     "execution_count": 29,
     "metadata": {},
     "output_type": "execute_result"
    }
   ],
   "source": [
    "cursor.fetchall()"
   ]
  },
  {
   "cell_type": "code",
   "execution_count": null,
   "id": "5960908e",
   "metadata": {},
   "outputs": [],
   "source": []
  }
 ],
 "metadata": {
  "kernelspec": {
   "display_name": "Python 3 (ipykernel)",
   "language": "python",
   "name": "python3"
  },
  "language_info": {
   "codemirror_mode": {
    "name": "ipython",
    "version": 3
   },
   "file_extension": ".py",
   "mimetype": "text/x-python",
   "name": "python",
   "nbconvert_exporter": "python",
   "pygments_lexer": "ipython3",
   "version": "3.9.7"
  }
 },
 "nbformat": 4,
 "nbformat_minor": 5
}
