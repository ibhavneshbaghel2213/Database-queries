{
 "cells": [
  {
   "cell_type": "markdown",
   "id": "9cb1d655",
   "metadata": {},
   "source": [
    "<b>Q-13. Write an SQL query to show only odd rows from a table."
   ]
  },
  {
   "cell_type": "markdown",
   "id": "65394266",
   "metadata": {},
   "source": [
    "       SELECT * FROM (SELECT customer_id, first_name, last_name, age, country FROM Customers) WHERE customer_id % 2 <> 0;"
   ]
  },
  {
   "cell_type": "markdown",
   "id": "956ac91e",
   "metadata": {},
   "source": [
    "<b>Q-14. Write an SQL query to clone a new table from another table."
   ]
  },
  {
   "cell_type": "markdown",
   "id": "43291880",
   "metadata": {},
   "source": [
    "     CREATE TABLE <new_table> LIKE <original_table>;\n",
    "     INSERT INTO <new_table> SELECT * FROM <original_table>;"
   ]
  },
  {
   "cell_type": "code",
   "execution_count": null,
   "id": "a96e24ca",
   "metadata": {},
   "outputs": [],
   "source": []
  }
 ],
 "metadata": {
  "kernelspec": {
   "display_name": "Python 3 (ipykernel)",
   "language": "python",
   "name": "python3"
  },
  "language_info": {
   "codemirror_mode": {
    "name": "ipython",
    "version": 3
   },
   "file_extension": ".py",
   "mimetype": "text/x-python",
   "name": "python",
   "nbconvert_exporter": "python",
   "pygments_lexer": "ipython3",
   "version": "3.9.7"
  }
 },
 "nbformat": 4,
 "nbformat_minor": 5
}
