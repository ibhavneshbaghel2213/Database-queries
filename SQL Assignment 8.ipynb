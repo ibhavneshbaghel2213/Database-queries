{
 "cells": [
  {
   "cell_type": "markdown",
   "id": "16a2c694",
   "metadata": {},
   "source": [
    "<b>Q-15. Write an SQL query to fetch intersecting records of two tables."
   ]
  },
  {
   "cell_type": "markdown",
   "id": "663f82a8",
   "metadata": {},
   "source": [
    "    select customer_id from Customers\n",
    "    Intersect\n",
    "    select customer_id from Orders;"
   ]
  },
  {
   "cell_type": "markdown",
   "id": "a7f92461",
   "metadata": {},
   "source": [
    "<b>Q-16. Write an SQL query to show records from one table that another table does not\n",
    "have."
   ]
  },
  {
   "cell_type": "markdown",
   "id": "8121cc16",
   "metadata": {},
   "source": [
    "    SELECT ID, first_name, last_name FROM Employee1\n",
    "    WHERE NOT EXISTS (SELECT * FROM Employee2 WHERE Employee1.ID =Employee2.ID);"
   ]
  }
 ],
 "metadata": {
  "kernelspec": {
   "display_name": "Python 3 (ipykernel)",
   "language": "python",
   "name": "python3"
  },
  "language_info": {
   "codemirror_mode": {
    "name": "ipython",
    "version": 3
   },
   "file_extension": ".py",
   "mimetype": "text/x-python",
   "name": "python",
   "nbconvert_exporter": "python",
   "pygments_lexer": "ipython3",
   "version": "3.9.7"
  }
 },
 "nbformat": 4,
 "nbformat_minor": 5
}
