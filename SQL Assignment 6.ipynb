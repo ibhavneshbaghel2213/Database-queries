{
 "cells": [
  {
   "cell_type": "markdown",
   "id": "98873cb0",
   "metadata": {},
   "source": [
    "<b>Q-1. Write an SQL query to print details of the Workers who have joined in Feb’2014."
   ]
  },
  {
   "cell_type": "markdown",
   "id": "423ebd1b",
   "metadata": {},
   "source": [
    "    SELECT * FROM Worker WHERE Joining_data LIKE '__-02-2014';"
   ]
  },
  {
   "cell_type": "markdown",
   "id": "b675bddd",
   "metadata": {},
   "source": [
    "<b>Q-2. Write an SQL query to fetch duplicate records having matching data in some fields of a table."
   ]
  },
  {
   "cell_type": "markdown",
   "id": "48dcc4da",
   "metadata": {},
   "source": [
    "    SELECT shipping_id, status, COUNT(status) FROM Shippings GROUP BY status HAVING COUNT(status) > 1;"
   ]
  },
  {
   "cell_type": "markdown",
   "id": "6a59e9a7",
   "metadata": {},
   "source": [
    "<b>Q-3. How to remove duplicate rows from Employees table.<b>"
   ]
  },
  {
   "cell_type": "markdown",
   "id": "3d8c0dfc",
   "metadata": {},
   "source": [
    "    DELETE FROM Employees WHERE ID NOT IN (SELECT MAX(ID) FROM Employees GROUP BY Employee_Name,Department,city,joined_date,salary);"
   ]
  }
 ],
 "metadata": {
  "kernelspec": {
   "display_name": "Python 3 (ipykernel)",
   "language": "python",
   "name": "python3"
  },
  "language_info": {
   "codemirror_mode": {
    "name": "ipython",
    "version": 3
   },
   "file_extension": ".py",
   "mimetype": "text/x-python",
   "name": "python",
   "nbconvert_exporter": "python",
   "pygments_lexer": "ipython3",
   "version": "3.9.7"
  }
 },
 "nbformat": 4,
 "nbformat_minor": 5
}
