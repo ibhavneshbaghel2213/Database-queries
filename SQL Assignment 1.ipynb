{
 "cells": [
  {
   "cell_type": "markdown",
   "id": "9c6f165d",
   "metadata": {},
   "source": [
    "<b>Q-1. Write an SQL query to fetch “FIRST_NAME” from Worker table using the alias\n",
    "name as &lt;WORKER_NAME&gt;.</b>"
   ]
  },
  {
   "cell_type": "markdown",
   "id": "60eb7345",
   "metadata": {},
   "source": [
    "select FIRST_NAME AS WORKER_NAME from Worker"
   ]
  },
  {
   "cell_type": "markdown",
   "id": "df2ed939",
   "metadata": {},
   "source": [
    "<b>Q-2. Write an SQL query to fetch unique values of DEPARTMENT from Worker table.</b>"
   ]
  },
  {
   "cell_type": "markdown",
   "id": "fec4775b",
   "metadata": {},
   "source": [
    "select distinct DEPARTMENT from Worker "
   ]
  },
  {
   "cell_type": "markdown",
   "id": "49c442c1",
   "metadata": {},
   "source": [
    "<b>Q-3. Write an SQL query to show the last 5 record from a table.</b>"
   ]
  },
  {
   "cell_type": "markdown",
   "id": "a630e943",
   "metadata": {},
   "source": [
    "select * from <b>table_name</b> where <b>column_name</b> > (select count(*) from <b>table_name</b>) - 5"
   ]
  },
  {
   "cell_type": "markdown",
   "id": "b83dfb6c",
   "metadata": {},
   "source": []
  }
 ],
 "metadata": {
  "kernelspec": {
   "display_name": "Python 3 (ipykernel)",
   "language": "python",
   "name": "python3"
  },
  "language_info": {
   "codemirror_mode": {
    "name": "ipython",
    "version": 3
   },
   "file_extension": ".py",
   "mimetype": "text/x-python",
   "name": "python",
   "nbconvert_exporter": "python",
   "pygments_lexer": "ipython3",
   "version": "3.9.7"
  }
 },
 "nbformat": 4,
 "nbformat_minor": 5
}
