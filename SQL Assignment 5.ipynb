{
 "cells": [
  {
   "cell_type": "markdown",
   "id": "6da39da1",
   "metadata": {},
   "source": [
    "<b>Q-1. Write an SQL query to print details of workers excluding first names, “Vipul” and\n",
    "“Satish” from Worker table.<b>"
   ]
  },
  {
   "cell_type": "markdown",
   "id": "fa23b577",
   "metadata": {},
   "source": [
    "    SELECT * FROM Worker WHERE first_name NOT IN ('Vipul','Satish');"
   ]
  },
  {
   "cell_type": "markdown",
   "id": "1d254262",
   "metadata": {},
   "source": [
    "<b>Q-2. Write an SQL query to print details of the Workers whose FIRST_NAME ends with ‘h’ and contains six alphabets"
   ]
  },
  {
   "cell_type": "markdown",
   "id": "f16317c2",
   "metadata": {},
   "source": [
    "    SELECT * FROM Worker WHERE FIRST_NAME LIKE '_____h';"
   ]
  },
  {
   "cell_type": "markdown",
   "id": "f0e603ac",
   "metadata": {},
   "source": [
    "<b>Q-3. Write a query to validate Email of Employee.<b>"
   ]
  },
  {
   "cell_type": "markdown",
   "id": "613bbe2c",
   "metadata": {},
   "source": [
    "    SELECT * FROM Employee WHERE Email LIKE '%@gmail.com';"
   ]
  },
  {
   "cell_type": "code",
   "execution_count": null,
   "id": "245fec78",
   "metadata": {},
   "outputs": [],
   "source": []
  }
 ],
 "metadata": {
  "kernelspec": {
   "display_name": "Python 3 (ipykernel)",
   "language": "python",
   "name": "python3"
  },
  "language_info": {
   "codemirror_mode": {
    "name": "ipython",
    "version": 3
   },
   "file_extension": ".py",
   "mimetype": "text/x-python",
   "name": "python",
   "nbconvert_exporter": "python",
   "pygments_lexer": "ipython3",
   "version": "3.9.7"
  }
 },
 "nbformat": 4,
 "nbformat_minor": 5
}
